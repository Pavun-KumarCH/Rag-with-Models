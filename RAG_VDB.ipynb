{
  "nbformat": 4,
  "nbformat_minor": 0,
  "metadata": {
    "colab": {
      "private_outputs": true,
      "provenance": [],
      "authorship_tag": "ABX9TyM76bSy1EXMr4alCswT22Ac",
      "include_colab_link": true
    },
    "kernelspec": {
      "name": "python3",
      "display_name": "Python 3"
    },
    "language_info": {
      "name": "python"
    }
  },
  "cells": [
    {
      "cell_type": "markdown",
      "metadata": {
        "id": "view-in-github",
        "colab_type": "text"
      },
      "source": [
        "<a href=\"https://colab.research.google.com/github/Pavun-KumarCH/Research-Notebooks/blob/main/RAG_VDB.ipynb\" target=\"_parent\"><img src=\"https://colab.research.google.com/assets/colab-badge.svg\" alt=\"Open In Colab\"/></a>"
      ]
    },
    {
      "cell_type": "code",
      "source": [
        "#@title requirements\n",
        "%pip install --q openai pinecone datasets"
      ],
      "metadata": {
        "id": "B2e7xp1DO-Cy"
      },
      "execution_count": null,
      "outputs": []
    },
    {
      "cell_type": "code",
      "execution_count": null,
      "metadata": {
        "id": "zVLQtA_iL0Cz"
      },
      "outputs": [],
      "source": [
        "# Load Dependecies\n",
        "import os\n",
        "import ast\n",
        "import pandas as pd\n",
        "from openai import OpenAI\n",
        "from tqdm.auto import tqdm\n",
        "from datasets import load_dataset\n",
        "from pinecone import Pinecone, ServerlessSpec\n",
        "from IPython.display import display, Markdown\n",
        "\n",
        "import warnings\n",
        "warnings.filterwarnings('ignore')\n",
        "\n",
        "from google.colab import userdata\n",
        "OPENAI_API_KEY = userdata.get('OPENAI_API_KEY')\n",
        "PINECONE_API_KEY= userdata.get('PINECONE_API_KEY')"
      ]
    },
    {
      "cell_type": "code",
      "source": [
        "def create_dlai_index_name(index_name):\n",
        "  openai_key = \"\"\n",
        "  try:\n",
        "    # For Google Colab\n",
        "    from google.colab import userdata\n",
        "    openai_key = userdata.get(\"OPENAI_API_KEY\")\n",
        "  except ImportError:\n",
        "    # For Jupyter or other environments\n",
        "    openai_key = os.getenv(\"OPENAI_API_KEY\")\n",
        "\n",
        "    # Ensure openai_key is not empty\n",
        "  if not openai_key:\n",
        "    raise ValueError(\"OpenAI API key is missing.\")\n",
        "\n",
        "  return f'{index_name}-{openai_key[-36:].lower().replace(\"_\", \"-\")}'"
      ],
      "metadata": {
        "id": "RMMUoDOOQ4at"
      },
      "execution_count": null,
      "outputs": []
    },
    {
      "cell_type": "code",
      "source": [
        "# Setup Pinecone\n",
        "\n",
        "pinecone = Pinecone(api_key = PINECONE_API_KEY)\n",
        "\n",
        "INDEX_NAME = create_dlai_index_name(\"rag-dlai\")\n",
        "if INDEX_NAME in[index.name for index in pinecone.list_indexes()]:\n",
        "  pinecone.delete_index(INDEX_NAME)\n",
        "\n",
        "pinecone.create_index(\n",
        "  name = INDEX_NAME,\n",
        "  dimension = 1536,\n",
        "  metric = \"cosine\",\n",
        "  spec = ServerlessSpec(cloud = \"aws\", region = \"us-east-1\"))\n",
        "\n",
        "# Creating a Index\n",
        "index = pinecone.Index(INDEX_NAME)\n",
        "index"
      ],
      "metadata": {
        "id": "SMs01KbLQF5Z"
      },
      "execution_count": null,
      "outputs": []
    },
    {
      "cell_type": "code",
      "source": [
        "# Download the Data\n",
        "\n",
        "#!wget -q -O lesson2-wiki.csv.zip \"https://www.dropbox.com/scl/fi/yxzmsrv2sgl249zcspeqb/lesson2-wiki.csv.zip?rlkey=paehnoxjl3s5x53d1bedt4pmc&dl=0\"\n",
        "\n",
        "#!unzip lesson2-wiki.csv.zip"
      ],
      "metadata": {
        "id": "kdpjkV4AR02k"
      },
      "execution_count": null,
      "outputs": []
    },
    {
      "cell_type": "code",
      "source": [
        "#@title load The Dataset\n",
        "max_articles_num = 500\n",
        "df = pd.read_csv('wiki.csv', nrows = max_articles_num)\n",
        "df.head()"
      ],
      "metadata": {
        "id": "ImV1UbhrSD0a"
      },
      "execution_count": null,
      "outputs": []
    },
    {
      "cell_type": "code",
      "source": [
        "#@title Prepare the Embeddings and Upsert(upload) to Pinecone\n",
        "prepared = []\n",
        "\n",
        "for i, row in tqdm(df.iterrows(), total = df.shape[0]):\n",
        "  meta = ast.literal_eval(row['metadata'])\n",
        "  values = ast.literal_eval(row['values'])\n",
        "  prepared.append({'id' : row['id'],\n",
        "                   'values' : values,\n",
        "                   'metadata': meta})\n",
        "  if len(prepared) >= 250:\n",
        "    index.upsert(vectors = prepared)\n",
        "    prepared = []"
      ],
      "metadata": {
        "id": "T0pGklZrSinK"
      },
      "execution_count": null,
      "outputs": []
    },
    {
      "cell_type": "code",
      "source": [
        "index.describe_index_stats()"
      ],
      "metadata": {
        "id": "NF_UznB1UF2k"
      },
      "execution_count": null,
      "outputs": []
    },
    {
      "cell_type": "code",
      "source": [
        "#@title Connect to OpenAI\n",
        "openai_client = OpenAI(api_key = OPENAI_API_KEY)\n",
        "\n",
        "def get_embedding(articles, model = \"text-embedding-ada-002\"):\n",
        "  return [record.embedding for record in openai_client.embeddings.create(input = articles, model = model).data]"
      ],
      "metadata": {
        "id": "MKhDm0C5UJUn"
      },
      "execution_count": null,
      "outputs": []
    },
    {
      "cell_type": "code",
      "source": [
        "#@title Run Your Query\n",
        "query = \"What is the berlin wall ?\"\n",
        "\n",
        "embed = get_embedding([query])\n",
        "res = index.query(vector = embed, top_k = 4, include_metadata = True)\n",
        "text = [r['metadata']['text'] for r in res['matches']]\n",
        "print(\"\\n\".join(text))"
      ],
      "metadata": {
        "id": "m1lnFz4tUeKq"
      },
      "execution_count": null,
      "outputs": []
    },
    {
      "cell_type": "code",
      "source": [
        "## Build the Prompt\n",
        "query = \"write an article titled: what is the berlin wall?\"\n",
        "embed = get_embedding([query])\n",
        "\n",
        "res = index.query(vector = embed,\n",
        "                  top_k = 3,\n",
        "                  include_metadata = True)\n",
        "\n",
        "contexts = [x['metadata']['text'] for x in res['matches']]\n",
        "\n",
        "prompt_start = (\"Answer the question based on the context below.  \\n\\n\"+\n",
        "                \"Context:\\n\")\n",
        "\n",
        "prompt_end = (f\"\\n\\nQuestion: {query}\\nAnswer:\")\n",
        "\n",
        "prompt = (prompt_start + \"\\n\\n---\\n\\n\".join(contexts) + \"\\n\\n---\\n\\n\" + prompt_end)\n",
        "\n",
        "print(prompt)"
      ],
      "metadata": {
        "id": "jnpUG4WEU1Z5"
      },
      "execution_count": null,
      "outputs": []
    },
    {
      "cell_type": "code",
      "source": [
        "# Get the Summary\n",
        "res = openai_client.completions.create(\n",
        "    model = \"gpt-3.5-turbo-instruct\",\n",
        "    prompt = prompt,\n",
        "    temperature = 0.3,\n",
        "    max_tokens = 636,\n",
        "    top_p = 1,\n",
        "    frequency_penalty = 0,\n",
        "    presence_penalty = 0,\n",
        "    stop = None)\n",
        "\n",
        "print(\"-\" * 80)\n",
        "print(res.choices[0].text)\n",
        "print(\"-\" * 80)"
      ],
      "metadata": {
        "id": "MD7azNsHV8Dn"
      },
      "execution_count": null,
      "outputs": []
    }
  ]
}